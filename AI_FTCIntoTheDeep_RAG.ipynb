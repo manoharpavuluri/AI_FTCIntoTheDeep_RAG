{
  "nbformat": 4,
  "nbformat_minor": 0,
  "metadata": {
    "colab": {
      "provenance": [],
      "mount_file_id": "1C2xA9tc1utt6biScXfkhNsgbklekuxJt",
      "authorship_tag": "ABX9TyNgQ0WY+uHXPqb+cXTDXP8r",
      "include_colab_link": true
    },
    "kernelspec": {
      "name": "python3",
      "display_name": "Python 3"
    },
    "language_info": {
      "name": "python"
    }
  },
  "cells": [
    {
      "cell_type": "markdown",
      "metadata": {
        "id": "view-in-github",
        "colab_type": "text"
      },
      "source": [
        "<a href=\"https://colab.research.google.com/github/manoharpavuluri/AI_FTCIntoTheDeep_RAG/blob/main/AI_FTCIntoTheDeep_RAG.ipynb\" target=\"_parent\"><img src=\"https://colab.research.google.com/assets/colab-badge.svg\" alt=\"Open In Colab\"/></a>"
      ]
    },
    {
      "cell_type": "code",
      "execution_count": 58,
      "metadata": {
        "colab": {
          "base_uri": "https://localhost:8080/"
        },
        "id": "wy5tzVD5KuDY",
        "outputId": "78766a9e-4418-4a3c-9b36-45dfa237d60b"
      },
      "outputs": [
        {
          "output_type": "stream",
          "name": "stdout",
          "text": [
            "Requirement already satisfied: langchain-core in /usr/local/lib/python3.10/dist-packages (0.3.25)\n",
            "Requirement already satisfied: PyYAML>=5.3 in /usr/local/lib/python3.10/dist-packages (from langchain-core) (6.0.2)\n",
            "Requirement already satisfied: jsonpatch<2.0,>=1.33 in /usr/local/lib/python3.10/dist-packages (from langchain-core) (1.33)\n",
            "Requirement already satisfied: langsmith<0.3,>=0.1.125 in /usr/local/lib/python3.10/dist-packages (from langchain-core) (0.2.3)\n",
            "Requirement already satisfied: packaging<25,>=23.2 in /usr/local/lib/python3.10/dist-packages (from langchain-core) (24.2)\n",
            "Requirement already satisfied: pydantic<3.0.0,>=2.5.2 in /usr/local/lib/python3.10/dist-packages (from langchain-core) (2.10.3)\n",
            "Requirement already satisfied: tenacity!=8.4.0,<10.0.0,>=8.1.0 in /usr/local/lib/python3.10/dist-packages (from langchain-core) (9.0.0)\n",
            "Requirement already satisfied: typing-extensions>=4.7 in /usr/local/lib/python3.10/dist-packages (from langchain-core) (4.12.2)\n",
            "Requirement already satisfied: jsonpointer>=1.9 in /usr/local/lib/python3.10/dist-packages (from jsonpatch<2.0,>=1.33->langchain-core) (3.0.0)\n",
            "Requirement already satisfied: httpx<1,>=0.23.0 in /usr/local/lib/python3.10/dist-packages (from langsmith<0.3,>=0.1.125->langchain-core) (0.28.1)\n",
            "Requirement already satisfied: orjson<4.0.0,>=3.9.14 in /usr/local/lib/python3.10/dist-packages (from langsmith<0.3,>=0.1.125->langchain-core) (3.10.12)\n",
            "Requirement already satisfied: requests<3,>=2 in /usr/local/lib/python3.10/dist-packages (from langsmith<0.3,>=0.1.125->langchain-core) (2.32.3)\n",
            "Requirement already satisfied: requests-toolbelt<2.0.0,>=1.0.0 in /usr/local/lib/python3.10/dist-packages (from langsmith<0.3,>=0.1.125->langchain-core) (1.0.0)\n",
            "Requirement already satisfied: annotated-types>=0.6.0 in /usr/local/lib/python3.10/dist-packages (from pydantic<3.0.0,>=2.5.2->langchain-core) (0.7.0)\n",
            "Requirement already satisfied: pydantic-core==2.27.1 in /usr/local/lib/python3.10/dist-packages (from pydantic<3.0.0,>=2.5.2->langchain-core) (2.27.1)\n",
            "Requirement already satisfied: anyio in /usr/local/lib/python3.10/dist-packages (from httpx<1,>=0.23.0->langsmith<0.3,>=0.1.125->langchain-core) (3.7.1)\n",
            "Requirement already satisfied: certifi in /usr/local/lib/python3.10/dist-packages (from httpx<1,>=0.23.0->langsmith<0.3,>=0.1.125->langchain-core) (2024.8.30)\n",
            "Requirement already satisfied: httpcore==1.* in /usr/local/lib/python3.10/dist-packages (from httpx<1,>=0.23.0->langsmith<0.3,>=0.1.125->langchain-core) (1.0.7)\n",
            "Requirement already satisfied: idna in /usr/local/lib/python3.10/dist-packages (from httpx<1,>=0.23.0->langsmith<0.3,>=0.1.125->langchain-core) (3.10)\n",
            "Requirement already satisfied: h11<0.15,>=0.13 in /usr/local/lib/python3.10/dist-packages (from httpcore==1.*->httpx<1,>=0.23.0->langsmith<0.3,>=0.1.125->langchain-core) (0.14.0)\n",
            "Requirement already satisfied: charset-normalizer<4,>=2 in /usr/local/lib/python3.10/dist-packages (from requests<3,>=2->langsmith<0.3,>=0.1.125->langchain-core) (3.4.0)\n",
            "Requirement already satisfied: urllib3<3,>=1.21.1 in /usr/local/lib/python3.10/dist-packages (from requests<3,>=2->langsmith<0.3,>=0.1.125->langchain-core) (2.2.3)\n",
            "Requirement already satisfied: sniffio>=1.1 in /usr/local/lib/python3.10/dist-packages (from anyio->httpx<1,>=0.23.0->langsmith<0.3,>=0.1.125->langchain-core) (1.3.1)\n",
            "Requirement already satisfied: exceptiongroup in /usr/local/lib/python3.10/dist-packages (from anyio->httpx<1,>=0.23.0->langsmith<0.3,>=0.1.125->langchain-core) (1.2.2)\n"
          ]
        }
      ],
      "source": [
        "!pip install openai --quiet\n",
        "!pip install langchain --quiet\n",
        "!pip install cohere --quiet\n",
        "!pip install tiktoken --quiet\n",
        "!pip install langchain_community --quiet\n",
        "!pip install --upgrade langchain-core\n"
      ]
    },
    {
      "cell_type": "code",
      "source": [
        "import os"
      ],
      "metadata": {
        "id": "qAdIPWfVLNyj"
      },
      "execution_count": 3,
      "outputs": []
    },
    {
      "cell_type": "code",
      "source": [
        "from google.colab import userdata\n",
        "os.environ['OPENAI_API_KEY'] = userdata.get('OPENAI_API_KEY')\n",
        "os.environ['COHERE_API_KEY'] = userdata.get('COHERE_API_KEY')\n",
        "os.environ['TAVILY_API_KEY'] = userdata.get('TAVILY_API_KEY')\n",
        "\n"
      ],
      "metadata": {
        "id": "QR13tdSqLT-D"
      },
      "execution_count": 53,
      "outputs": []
    },
    {
      "cell_type": "code",
      "source": [
        "def pretty_print_docs(docs):\n",
        "  print(\n",
        "      f\"\\n{'-' * 100}\\n\".join(\n",
        "          [f\"Document {i+1}:\\n\\n\" + d.page_content for i, d in enumerate(docs)]\n",
        "      )\n",
        "  )"
      ],
      "metadata": {
        "id": "j6UM4b5VLpji"
      },
      "execution_count": 5,
      "outputs": []
    },
    {
      "cell_type": "code",
      "source": [
        "!pip install pypdf --quiet"
      ],
      "metadata": {
        "colab": {
          "base_uri": "https://localhost:8080/"
        },
        "id": "M7hwwVjnMKcF",
        "outputId": "f0475df2-e47b-4f18-902a-74e8157eff91"
      },
      "execution_count": 6,
      "outputs": [
        {
          "output_type": "stream",
          "name": "stdout",
          "text": [
            "\u001b[?25l   \u001b[90m━━━━━━━━━━━━━━━━━━━━━━━━━━━━━━━━━━━━━━━━\u001b[0m \u001b[32m0.0/298.0 kB\u001b[0m \u001b[31m?\u001b[0m eta \u001b[36m-:--:--\u001b[0m\r\u001b[2K   \u001b[91m━━━━━━━━━━━━━━━━\u001b[0m\u001b[90m╺\u001b[0m\u001b[90m━━━━━━━━━━━━━━━━━━━━━━━\u001b[0m \u001b[32m122.9/298.0 kB\u001b[0m \u001b[31m3.5 MB/s\u001b[0m eta \u001b[36m0:00:01\u001b[0m\r\u001b[2K   \u001b[90m━━━━━━━━━━━━━━━━━━━━━━━━━━━━━━━━━━━━━━━━\u001b[0m \u001b[32m298.0/298.0 kB\u001b[0m \u001b[31m4.7 MB/s\u001b[0m eta \u001b[36m0:00:00\u001b[0m\n",
            "\u001b[?25h"
          ]
        }
      ]
    },
    {
      "cell_type": "code",
      "source": [
        "from langchain.document_loaders import PyPDFLoader"
      ],
      "metadata": {
        "id": "t8fy0GptPCwJ"
      },
      "execution_count": 8,
      "outputs": []
    },
    {
      "cell_type": "code",
      "source": [
        "!wget https://raw.githubusercontent.com/manoharpavuluri/AI_FTCIntoTheDeep_RAGG/main/IntoTheDeep202425FTCCompetitionManualV7.pdf\n",
        "loader = PyPDFLoader(\"IntoTheDeep202425FTCCompetitionManualV7.pdf\")\n",
        "pages = loader.load()\n",
        "print(len(pages))"
      ],
      "metadata": {
        "colab": {
          "base_uri": "https://localhost:8080/"
        },
        "id": "aDxBTF1QMP9z",
        "outputId": "f734c6c7-a078-4bb0-b44e-13fabfbb164b"
      },
      "execution_count": 16,
      "outputs": [
        {
          "output_type": "stream",
          "name": "stdout",
          "text": [
            "--2024-12-18 05:51:40--  https://raw.githubusercontent.com/manoharpavuluri/AI_FTCIntoTheDeep_RAGG/main/IntoTheDeep202425FTCCompetitionManualV7.pdf\n",
            "Resolving raw.githubusercontent.com (raw.githubusercontent.com)... 185.199.108.133, 185.199.111.133, 185.199.109.133, ...\n",
            "Connecting to raw.githubusercontent.com (raw.githubusercontent.com)|185.199.108.133|:443... connected.\n",
            "HTTP request sent, awaiting response... 200 OK\n",
            "Length: 4478013 (4.3M) [application/octet-stream]\n",
            "Saving to: ‘IntoTheDeep202425FTCCompetitionManualV7.pdf.1’\n",
            "\n",
            "\r          IntoTheDe   0%[                    ]       0  --.-KB/s               \rIntoTheDeep202425FT 100%[===================>]   4.27M  --.-KB/s    in 0.09s   \n",
            "\n",
            "2024-12-18 05:51:40 (47.8 MB/s) - ‘IntoTheDeep202425FTCCompetitionManualV7.pdf.1’ saved [4478013/4478013]\n",
            "\n",
            "144\n"
          ]
        }
      ]
    },
    {
      "cell_type": "code",
      "source": [
        "full_text =\"\"\n",
        "for page in pages:\n",
        "  full_text += page.page_content\n",
        "\n",
        "print(\"Pages\", len(pages))\n",
        "print(\"Lines\" , len(full_text.split(\"\\n\")))\n",
        "print(\"Words\" , len(full_text.split(\" \")))\n",
        "print(\"Charecters\", len(full_text))"
      ],
      "metadata": {
        "colab": {
          "base_uri": "https://localhost:8080/"
        },
        "id": "d1H96OdpPAET",
        "outputId": "32a13165-ad76-4513-c87f-cd0a80a1a88e"
      },
      "execution_count": 17,
      "outputs": [
        {
          "output_type": "stream",
          "name": "stdout",
          "text": [
            "Pages 144\n",
            "Lines 4895\n",
            "Words 47851\n",
            "Charecters 302498\n"
          ]
        }
      ]
    },
    {
      "cell_type": "code",
      "source": [
        "from langchain.text_splitter import RecursiveCharacterTextSplitter"
      ],
      "metadata": {
        "id": "rg90SKUkUwSw"
      },
      "execution_count": 18,
      "outputs": []
    },
    {
      "cell_type": "code",
      "source": [
        "text_splitter = RecursiveCharacterTextSplitter(chunk_size=1000, chunk_overlap=100)\n",
        "chunks = text_splitter.split_documents(pages)\n",
        "print(len(chunks))"
      ],
      "metadata": {
        "colab": {
          "base_uri": "https://localhost:8080/"
        },
        "id": "fnj5GEtzU6wg",
        "outputId": "afd51e0c-c212-46a3-f17c-39344a8a37e3"
      },
      "execution_count": 66,
      "outputs": [
        {
          "output_type": "stream",
          "name": "stdout",
          "text": [
            "393\n"
          ]
        }
      ]
    },
    {
      "cell_type": "code",
      "source": [
        "print(chunks[10])"
      ],
      "metadata": {
        "colab": {
          "base_uri": "https://localhost:8080/"
        },
        "id": "NUl-qxMmVTVz",
        "outputId": "50d8ecec-1185-4fe3-9cfa-911934f23d40"
      },
      "execution_count": 68,
      "outputs": [
        {
          "output_type": "stream",
          "name": "stdout",
          "text": [
            "page_content='9.6 BASKETS .......................................................................................................................................... 52 \n",
            "9.7 SCORING ELEMENTS ...................................................................................................................... 53 \n",
            "9.7.1 SAMPLES .................................................................................................................................. 53 \n",
            "9.7.2 CLIP ........................................................................................................................................... 54 \n",
            "9.7.3 SPECIMEN ................................................................................................................................ 54 \n",
            "9.8 AprilTags .......................................................................................................................................... 55' metadata={'source': 'IntoTheDeep202425FTCCompetitionManualV7.pdf', 'page': 2}\n"
          ]
        }
      ]
    },
    {
      "cell_type": "code",
      "source": [
        "from langchain.embeddings import  OpenAIEmbeddings, CohereEmbeddings"
      ],
      "metadata": {
        "id": "w5p6TDC4Vb10"
      },
      "execution_count": 24,
      "outputs": []
    },
    {
      "cell_type": "code",
      "source": [
        "#openAIEmbedding = OpenAIEmbeddings()\n",
        "cohereEmbedding = CohereEmbeddings(user_agent=\"langchain\")"
      ],
      "metadata": {
        "colab": {
          "base_uri": "https://localhost:8080/"
        },
        "id": "Ll9wU6UcVnrS",
        "outputId": "b781c414-8a0a-41e4-b6c7-3f5228796bea"
      },
      "execution_count": 26,
      "outputs": [
        {
          "output_type": "stream",
          "name": "stderr",
          "text": [
            "<ipython-input-26-edd50d0d0199>:2: LangChainDeprecationWarning: The class `CohereEmbeddings` was deprecated in LangChain 0.0.30 and will be removed in 1.0. An updated version of the class exists in the :class:`~langchain-cohere package and should be used instead. To use it run `pip install -U :class:`~langchain-cohere` and import as `from :class:`~langchain_cohere import CohereEmbeddings``.\n",
            "  cohereEmbedding = CohereEmbeddings(user_agent=\"langchain\")\n"
          ]
        }
      ]
    },
    {
      "cell_type": "code",
      "source": [
        "!pip install langchain-cohere"
      ],
      "metadata": {
        "colab": {
          "base_uri": "https://localhost:8080/"
        },
        "id": "8HULk2NMV6lr",
        "outputId": "299140c3-21da-402c-ca5c-53f0beca98a3"
      },
      "execution_count": 27,
      "outputs": [
        {
          "output_type": "stream",
          "name": "stdout",
          "text": [
            "Collecting langchain-cohere\n",
            "  Downloading langchain_cohere-0.3.3-py3-none-any.whl.metadata (6.7 kB)\n",
            "Requirement already satisfied: cohere<6.0,>=5.5.6 in /usr/local/lib/python3.10/dist-packages (from langchain-cohere) (5.13.3)\n",
            "Requirement already satisfied: langchain-core<0.4,>=0.3.0 in /usr/local/lib/python3.10/dist-packages (from langchain-cohere) (0.3.25)\n",
            "Collecting langchain-experimental<0.4.0,>=0.3.0 (from langchain-cohere)\n",
            "  Downloading langchain_experimental-0.3.3-py3-none-any.whl.metadata (1.7 kB)\n",
            "Requirement already satisfied: pandas>=1.4.3 in /usr/local/lib/python3.10/dist-packages (from langchain-cohere) (2.2.2)\n",
            "Requirement already satisfied: pydantic<3,>=2 in /usr/local/lib/python3.10/dist-packages (from langchain-cohere) (2.10.3)\n",
            "Requirement already satisfied: tabulate<0.10.0,>=0.9.0 in /usr/local/lib/python3.10/dist-packages (from langchain-cohere) (0.9.0)\n",
            "Requirement already satisfied: fastavro<2.0.0,>=1.9.4 in /usr/local/lib/python3.10/dist-packages (from cohere<6.0,>=5.5.6->langchain-cohere) (1.9.7)\n",
            "Requirement already satisfied: httpx>=0.21.2 in /usr/local/lib/python3.10/dist-packages (from cohere<6.0,>=5.5.6->langchain-cohere) (0.28.1)\n",
            "Requirement already satisfied: httpx-sse==0.4.0 in /usr/local/lib/python3.10/dist-packages (from cohere<6.0,>=5.5.6->langchain-cohere) (0.4.0)\n",
            "Requirement already satisfied: numpy<2.0,>=1.26 in /usr/local/lib/python3.10/dist-packages (from cohere<6.0,>=5.5.6->langchain-cohere) (1.26.4)\n",
            "Requirement already satisfied: parameterized<0.10.0,>=0.9.0 in /usr/local/lib/python3.10/dist-packages (from cohere<6.0,>=5.5.6->langchain-cohere) (0.9.0)\n",
            "Requirement already satisfied: pydantic-core<3.0.0,>=2.18.2 in /usr/local/lib/python3.10/dist-packages (from cohere<6.0,>=5.5.6->langchain-cohere) (2.27.1)\n",
            "Requirement already satisfied: requests<3.0.0,>=2.0.0 in /usr/local/lib/python3.10/dist-packages (from cohere<6.0,>=5.5.6->langchain-cohere) (2.32.3)\n",
            "Requirement already satisfied: tokenizers<1,>=0.15 in /usr/local/lib/python3.10/dist-packages (from cohere<6.0,>=5.5.6->langchain-cohere) (0.20.3)\n",
            "Requirement already satisfied: types-requests<3.0.0,>=2.0.0 in /usr/local/lib/python3.10/dist-packages (from cohere<6.0,>=5.5.6->langchain-cohere) (2.32.0.20241016)\n",
            "Requirement already satisfied: typing_extensions>=4.0.0 in /usr/local/lib/python3.10/dist-packages (from cohere<6.0,>=5.5.6->langchain-cohere) (4.12.2)\n",
            "Requirement already satisfied: PyYAML>=5.3 in /usr/local/lib/python3.10/dist-packages (from langchain-core<0.4,>=0.3.0->langchain-cohere) (6.0.2)\n",
            "Requirement already satisfied: jsonpatch<2.0,>=1.33 in /usr/local/lib/python3.10/dist-packages (from langchain-core<0.4,>=0.3.0->langchain-cohere) (1.33)\n",
            "Requirement already satisfied: langsmith<0.3,>=0.1.125 in /usr/local/lib/python3.10/dist-packages (from langchain-core<0.4,>=0.3.0->langchain-cohere) (0.2.3)\n",
            "Requirement already satisfied: packaging<25,>=23.2 in /usr/local/lib/python3.10/dist-packages (from langchain-core<0.4,>=0.3.0->langchain-cohere) (24.2)\n",
            "Requirement already satisfied: tenacity!=8.4.0,<10.0.0,>=8.1.0 in /usr/local/lib/python3.10/dist-packages (from langchain-core<0.4,>=0.3.0->langchain-cohere) (9.0.0)\n",
            "Requirement already satisfied: langchain-community<0.4.0,>=0.3.0 in /usr/local/lib/python3.10/dist-packages (from langchain-experimental<0.4.0,>=0.3.0->langchain-cohere) (0.3.12)\n",
            "Requirement already satisfied: python-dateutil>=2.8.2 in /usr/local/lib/python3.10/dist-packages (from pandas>=1.4.3->langchain-cohere) (2.8.2)\n",
            "Requirement already satisfied: pytz>=2020.1 in /usr/local/lib/python3.10/dist-packages (from pandas>=1.4.3->langchain-cohere) (2024.2)\n",
            "Requirement already satisfied: tzdata>=2022.7 in /usr/local/lib/python3.10/dist-packages (from pandas>=1.4.3->langchain-cohere) (2024.2)\n",
            "Requirement already satisfied: annotated-types>=0.6.0 in /usr/local/lib/python3.10/dist-packages (from pydantic<3,>=2->langchain-cohere) (0.7.0)\n",
            "Requirement already satisfied: anyio in /usr/local/lib/python3.10/dist-packages (from httpx>=0.21.2->cohere<6.0,>=5.5.6->langchain-cohere) (3.7.1)\n",
            "Requirement already satisfied: certifi in /usr/local/lib/python3.10/dist-packages (from httpx>=0.21.2->cohere<6.0,>=5.5.6->langchain-cohere) (2024.8.30)\n",
            "Requirement already satisfied: httpcore==1.* in /usr/local/lib/python3.10/dist-packages (from httpx>=0.21.2->cohere<6.0,>=5.5.6->langchain-cohere) (1.0.7)\n",
            "Requirement already satisfied: idna in /usr/local/lib/python3.10/dist-packages (from httpx>=0.21.2->cohere<6.0,>=5.5.6->langchain-cohere) (3.10)\n",
            "Requirement already satisfied: h11<0.15,>=0.13 in /usr/local/lib/python3.10/dist-packages (from httpcore==1.*->httpx>=0.21.2->cohere<6.0,>=5.5.6->langchain-cohere) (0.14.0)\n",
            "Requirement already satisfied: jsonpointer>=1.9 in /usr/local/lib/python3.10/dist-packages (from jsonpatch<2.0,>=1.33->langchain-core<0.4,>=0.3.0->langchain-cohere) (3.0.0)\n",
            "Requirement already satisfied: SQLAlchemy<3,>=1.4 in /usr/local/lib/python3.10/dist-packages (from langchain-community<0.4.0,>=0.3.0->langchain-experimental<0.4.0,>=0.3.0->langchain-cohere) (2.0.36)\n",
            "Requirement already satisfied: aiohttp<4.0.0,>=3.8.3 in /usr/local/lib/python3.10/dist-packages (from langchain-community<0.4.0,>=0.3.0->langchain-experimental<0.4.0,>=0.3.0->langchain-cohere) (3.11.10)\n",
            "Requirement already satisfied: dataclasses-json<0.7,>=0.5.7 in /usr/local/lib/python3.10/dist-packages (from langchain-community<0.4.0,>=0.3.0->langchain-experimental<0.4.0,>=0.3.0->langchain-cohere) (0.6.7)\n",
            "Requirement already satisfied: langchain<0.4.0,>=0.3.12 in /usr/local/lib/python3.10/dist-packages (from langchain-community<0.4.0,>=0.3.0->langchain-experimental<0.4.0,>=0.3.0->langchain-cohere) (0.3.12)\n",
            "Requirement already satisfied: pydantic-settings<3.0.0,>=2.4.0 in /usr/local/lib/python3.10/dist-packages (from langchain-community<0.4.0,>=0.3.0->langchain-experimental<0.4.0,>=0.3.0->langchain-cohere) (2.7.0)\n",
            "Requirement already satisfied: orjson<4.0.0,>=3.9.14 in /usr/local/lib/python3.10/dist-packages (from langsmith<0.3,>=0.1.125->langchain-core<0.4,>=0.3.0->langchain-cohere) (3.10.12)\n",
            "Requirement already satisfied: requests-toolbelt<2.0.0,>=1.0.0 in /usr/local/lib/python3.10/dist-packages (from langsmith<0.3,>=0.1.125->langchain-core<0.4,>=0.3.0->langchain-cohere) (1.0.0)\n",
            "Requirement already satisfied: six>=1.5 in /usr/local/lib/python3.10/dist-packages (from python-dateutil>=2.8.2->pandas>=1.4.3->langchain-cohere) (1.17.0)\n",
            "Requirement already satisfied: charset-normalizer<4,>=2 in /usr/local/lib/python3.10/dist-packages (from requests<3.0.0,>=2.0.0->cohere<6.0,>=5.5.6->langchain-cohere) (3.4.0)\n",
            "Requirement already satisfied: urllib3<3,>=1.21.1 in /usr/local/lib/python3.10/dist-packages (from requests<3.0.0,>=2.0.0->cohere<6.0,>=5.5.6->langchain-cohere) (2.2.3)\n",
            "Requirement already satisfied: huggingface-hub<1.0,>=0.16.4 in /usr/local/lib/python3.10/dist-packages (from tokenizers<1,>=0.15->cohere<6.0,>=5.5.6->langchain-cohere) (0.26.5)\n",
            "Requirement already satisfied: aiohappyeyeballs>=2.3.0 in /usr/local/lib/python3.10/dist-packages (from aiohttp<4.0.0,>=3.8.3->langchain-community<0.4.0,>=0.3.0->langchain-experimental<0.4.0,>=0.3.0->langchain-cohere) (2.4.4)\n",
            "Requirement already satisfied: aiosignal>=1.1.2 in /usr/local/lib/python3.10/dist-packages (from aiohttp<4.0.0,>=3.8.3->langchain-community<0.4.0,>=0.3.0->langchain-experimental<0.4.0,>=0.3.0->langchain-cohere) (1.3.2)\n",
            "Requirement already satisfied: async-timeout<6.0,>=4.0 in /usr/local/lib/python3.10/dist-packages (from aiohttp<4.0.0,>=3.8.3->langchain-community<0.4.0,>=0.3.0->langchain-experimental<0.4.0,>=0.3.0->langchain-cohere) (4.0.3)\n",
            "Requirement already satisfied: attrs>=17.3.0 in /usr/local/lib/python3.10/dist-packages (from aiohttp<4.0.0,>=3.8.3->langchain-community<0.4.0,>=0.3.0->langchain-experimental<0.4.0,>=0.3.0->langchain-cohere) (24.2.0)\n",
            "Requirement already satisfied: frozenlist>=1.1.1 in /usr/local/lib/python3.10/dist-packages (from aiohttp<4.0.0,>=3.8.3->langchain-community<0.4.0,>=0.3.0->langchain-experimental<0.4.0,>=0.3.0->langchain-cohere) (1.5.0)\n",
            "Requirement already satisfied: multidict<7.0,>=4.5 in /usr/local/lib/python3.10/dist-packages (from aiohttp<4.0.0,>=3.8.3->langchain-community<0.4.0,>=0.3.0->langchain-experimental<0.4.0,>=0.3.0->langchain-cohere) (6.1.0)\n",
            "Requirement already satisfied: propcache>=0.2.0 in /usr/local/lib/python3.10/dist-packages (from aiohttp<4.0.0,>=3.8.3->langchain-community<0.4.0,>=0.3.0->langchain-experimental<0.4.0,>=0.3.0->langchain-cohere) (0.2.1)\n",
            "Requirement already satisfied: yarl<2.0,>=1.17.0 in /usr/local/lib/python3.10/dist-packages (from aiohttp<4.0.0,>=3.8.3->langchain-community<0.4.0,>=0.3.0->langchain-experimental<0.4.0,>=0.3.0->langchain-cohere) (1.18.3)\n",
            "Requirement already satisfied: marshmallow<4.0.0,>=3.18.0 in /usr/local/lib/python3.10/dist-packages (from dataclasses-json<0.7,>=0.5.7->langchain-community<0.4.0,>=0.3.0->langchain-experimental<0.4.0,>=0.3.0->langchain-cohere) (3.23.1)\n",
            "Requirement already satisfied: typing-inspect<1,>=0.4.0 in /usr/local/lib/python3.10/dist-packages (from dataclasses-json<0.7,>=0.5.7->langchain-community<0.4.0,>=0.3.0->langchain-experimental<0.4.0,>=0.3.0->langchain-cohere) (0.9.0)\n",
            "Requirement already satisfied: filelock in /usr/local/lib/python3.10/dist-packages (from huggingface-hub<1.0,>=0.16.4->tokenizers<1,>=0.15->cohere<6.0,>=5.5.6->langchain-cohere) (3.16.1)\n",
            "Requirement already satisfied: fsspec>=2023.5.0 in /usr/local/lib/python3.10/dist-packages (from huggingface-hub<1.0,>=0.16.4->tokenizers<1,>=0.15->cohere<6.0,>=5.5.6->langchain-cohere) (2024.10.0)\n",
            "Requirement already satisfied: tqdm>=4.42.1 in /usr/local/lib/python3.10/dist-packages (from huggingface-hub<1.0,>=0.16.4->tokenizers<1,>=0.15->cohere<6.0,>=5.5.6->langchain-cohere) (4.66.6)\n",
            "Requirement already satisfied: langchain-text-splitters<0.4.0,>=0.3.3 in /usr/local/lib/python3.10/dist-packages (from langchain<0.4.0,>=0.3.12->langchain-community<0.4.0,>=0.3.0->langchain-experimental<0.4.0,>=0.3.0->langchain-cohere) (0.3.3)\n",
            "Requirement already satisfied: python-dotenv>=0.21.0 in /usr/local/lib/python3.10/dist-packages (from pydantic-settings<3.0.0,>=2.4.0->langchain-community<0.4.0,>=0.3.0->langchain-experimental<0.4.0,>=0.3.0->langchain-cohere) (1.0.1)\n",
            "Requirement already satisfied: greenlet!=0.4.17 in /usr/local/lib/python3.10/dist-packages (from SQLAlchemy<3,>=1.4->langchain-community<0.4.0,>=0.3.0->langchain-experimental<0.4.0,>=0.3.0->langchain-cohere) (3.1.1)\n",
            "Requirement already satisfied: sniffio>=1.1 in /usr/local/lib/python3.10/dist-packages (from anyio->httpx>=0.21.2->cohere<6.0,>=5.5.6->langchain-cohere) (1.3.1)\n",
            "Requirement already satisfied: exceptiongroup in /usr/local/lib/python3.10/dist-packages (from anyio->httpx>=0.21.2->cohere<6.0,>=5.5.6->langchain-cohere) (1.2.2)\n",
            "Requirement already satisfied: mypy-extensions>=0.3.0 in /usr/local/lib/python3.10/dist-packages (from typing-inspect<1,>=0.4.0->dataclasses-json<0.7,>=0.5.7->langchain-community<0.4.0,>=0.3.0->langchain-experimental<0.4.0,>=0.3.0->langchain-cohere) (1.0.0)\n",
            "Downloading langchain_cohere-0.3.3-py3-none-any.whl (44 kB)\n",
            "\u001b[2K   \u001b[90m━━━━━━━━━━━━━━━━━━━━━━━━━━━━━━━━━━━━━━━━\u001b[0m \u001b[32m44.3/44.3 kB\u001b[0m \u001b[31m1.6 MB/s\u001b[0m eta \u001b[36m0:00:00\u001b[0m\n",
            "\u001b[?25hDownloading langchain_experimental-0.3.3-py3-none-any.whl (208 kB)\n",
            "\u001b[2K   \u001b[90m━━━━━━━━━━━━━━━━━━━━━━━━━━━━━━━━━━━━━━━━\u001b[0m \u001b[32m209.0/209.0 kB\u001b[0m \u001b[31m6.1 MB/s\u001b[0m eta \u001b[36m0:00:00\u001b[0m\n",
            "\u001b[?25hInstalling collected packages: langchain-experimental, langchain-cohere\n",
            "Successfully installed langchain-cohere-0.3.3 langchain-experimental-0.3.3\n"
          ]
        }
      ]
    },
    {
      "cell_type": "code",
      "source": [
        "from langchain_cohere import CohereEmbeddings\n"
      ],
      "metadata": {
        "id": "rQWxiox0WUby"
      },
      "execution_count": 28,
      "outputs": []
    },
    {
      "cell_type": "code",
      "source": [
        "#openAIEmbedding = OpenAIEmbeddings()\n",
        "cohereEmbed = CohereEmbeddings(model=\"embed-english-v3.0\")"
      ],
      "metadata": {
        "id": "PFPRTDCtWetu"
      },
      "execution_count": 35,
      "outputs": []
    },
    {
      "cell_type": "code",
      "source": [
        "from langchain.vectorstores import Chroma\n",
        "\n"
      ],
      "metadata": {
        "id": "K1WviRe-Whu1"
      },
      "execution_count": 38,
      "outputs": []
    },
    {
      "cell_type": "code",
      "source": [
        "!pip install chromadb"
      ],
      "metadata": {
        "colab": {
          "base_uri": "https://localhost:8080/"
        },
        "id": "HWqYuqtec5YX",
        "outputId": "65ae0ad4-12ba-4f8b-d2fa-fc9b3c38df3a"
      },
      "execution_count": 41,
      "outputs": [
        {
          "output_type": "stream",
          "name": "stdout",
          "text": [
            "Collecting chromadb\n",
            "  Downloading chromadb-0.5.23-py3-none-any.whl.metadata (6.8 kB)\n",
            "Collecting build>=1.0.3 (from chromadb)\n",
            "  Downloading build-1.2.2.post1-py3-none-any.whl.metadata (6.5 kB)\n",
            "Requirement already satisfied: pydantic>=1.9 in /usr/local/lib/python3.10/dist-packages (from chromadb) (2.10.3)\n",
            "Collecting chroma-hnswlib==0.7.6 (from chromadb)\n",
            "  Downloading chroma_hnswlib-0.7.6-cp310-cp310-manylinux_2_17_x86_64.manylinux2014_x86_64.whl.metadata (252 bytes)\n",
            "Collecting fastapi>=0.95.2 (from chromadb)\n",
            "  Downloading fastapi-0.115.6-py3-none-any.whl.metadata (27 kB)\n",
            "Collecting uvicorn>=0.18.3 (from uvicorn[standard]>=0.18.3->chromadb)\n",
            "  Downloading uvicorn-0.34.0-py3-none-any.whl.metadata (6.5 kB)\n",
            "Requirement already satisfied: numpy>=1.22.5 in /usr/local/lib/python3.10/dist-packages (from chromadb) (1.26.4)\n",
            "Collecting posthog>=2.4.0 (from chromadb)\n",
            "  Downloading posthog-3.7.4-py2.py3-none-any.whl.metadata (2.0 kB)\n",
            "Requirement already satisfied: typing_extensions>=4.5.0 in /usr/local/lib/python3.10/dist-packages (from chromadb) (4.12.2)\n",
            "Collecting onnxruntime>=1.14.1 (from chromadb)\n",
            "  Downloading onnxruntime-1.20.1-cp310-cp310-manylinux_2_27_x86_64.manylinux_2_28_x86_64.whl.metadata (4.5 kB)\n",
            "Requirement already satisfied: opentelemetry-api>=1.2.0 in /usr/local/lib/python3.10/dist-packages (from chromadb) (1.29.0)\n",
            "Collecting opentelemetry-exporter-otlp-proto-grpc>=1.2.0 (from chromadb)\n",
            "  Downloading opentelemetry_exporter_otlp_proto_grpc-1.29.0-py3-none-any.whl.metadata (2.2 kB)\n",
            "Collecting opentelemetry-instrumentation-fastapi>=0.41b0 (from chromadb)\n",
            "  Downloading opentelemetry_instrumentation_fastapi-0.50b0-py3-none-any.whl.metadata (2.1 kB)\n",
            "Requirement already satisfied: opentelemetry-sdk>=1.2.0 in /usr/local/lib/python3.10/dist-packages (from chromadb) (1.29.0)\n",
            "Requirement already satisfied: tokenizers<=0.20.3,>=0.13.2 in /usr/local/lib/python3.10/dist-packages (from chromadb) (0.20.3)\n",
            "Collecting pypika>=0.48.9 (from chromadb)\n",
            "  Downloading PyPika-0.48.9.tar.gz (67 kB)\n",
            "\u001b[2K     \u001b[90m━━━━━━━━━━━━━━━━━━━━━━━━━━━━━━━━━━━━━━━━\u001b[0m \u001b[32m67.3/67.3 kB\u001b[0m \u001b[31m3.0 MB/s\u001b[0m eta \u001b[36m0:00:00\u001b[0m\n",
            "\u001b[?25h  Installing build dependencies ... \u001b[?25l\u001b[?25hdone\n",
            "  Getting requirements to build wheel ... \u001b[?25l\u001b[?25hdone\n",
            "  Preparing metadata (pyproject.toml) ... \u001b[?25l\u001b[?25hdone\n",
            "Requirement already satisfied: tqdm>=4.65.0 in /usr/local/lib/python3.10/dist-packages (from chromadb) (4.66.6)\n",
            "Collecting overrides>=7.3.1 (from chromadb)\n",
            "  Downloading overrides-7.7.0-py3-none-any.whl.metadata (5.8 kB)\n",
            "Requirement already satisfied: importlib-resources in /usr/local/lib/python3.10/dist-packages (from chromadb) (6.4.5)\n",
            "Requirement already satisfied: grpcio>=1.58.0 in /usr/local/lib/python3.10/dist-packages (from chromadb) (1.68.1)\n",
            "Collecting bcrypt>=4.0.1 (from chromadb)\n",
            "  Downloading bcrypt-4.2.1-cp39-abi3-manylinux_2_28_x86_64.whl.metadata (9.8 kB)\n",
            "Requirement already satisfied: typer>=0.9.0 in /usr/local/lib/python3.10/dist-packages (from chromadb) (0.15.1)\n",
            "Collecting kubernetes>=28.1.0 (from chromadb)\n",
            "  Downloading kubernetes-31.0.0-py2.py3-none-any.whl.metadata (1.5 kB)\n",
            "Requirement already satisfied: tenacity>=8.2.3 in /usr/local/lib/python3.10/dist-packages (from chromadb) (9.0.0)\n",
            "Requirement already satisfied: PyYAML>=6.0.0 in /usr/local/lib/python3.10/dist-packages (from chromadb) (6.0.2)\n",
            "Collecting mmh3>=4.0.1 (from chromadb)\n",
            "  Downloading mmh3-5.0.1-cp310-cp310-manylinux_2_5_x86_64.manylinux1_x86_64.manylinux_2_17_x86_64.manylinux2014_x86_64.whl.metadata (14 kB)\n",
            "Requirement already satisfied: orjson>=3.9.12 in /usr/local/lib/python3.10/dist-packages (from chromadb) (3.10.12)\n",
            "Requirement already satisfied: httpx>=0.27.0 in /usr/local/lib/python3.10/dist-packages (from chromadb) (0.28.1)\n",
            "Requirement already satisfied: rich>=10.11.0 in /usr/local/lib/python3.10/dist-packages (from chromadb) (13.9.4)\n",
            "Requirement already satisfied: packaging>=19.1 in /usr/local/lib/python3.10/dist-packages (from build>=1.0.3->chromadb) (24.2)\n",
            "Collecting pyproject_hooks (from build>=1.0.3->chromadb)\n",
            "  Downloading pyproject_hooks-1.2.0-py3-none-any.whl.metadata (1.3 kB)\n",
            "Requirement already satisfied: tomli>=1.1.0 in /usr/local/lib/python3.10/dist-packages (from build>=1.0.3->chromadb) (2.2.1)\n",
            "Collecting starlette<0.42.0,>=0.40.0 (from fastapi>=0.95.2->chromadb)\n",
            "  Downloading starlette-0.41.3-py3-none-any.whl.metadata (6.0 kB)\n",
            "Requirement already satisfied: anyio in /usr/local/lib/python3.10/dist-packages (from httpx>=0.27.0->chromadb) (3.7.1)\n",
            "Requirement already satisfied: certifi in /usr/local/lib/python3.10/dist-packages (from httpx>=0.27.0->chromadb) (2024.8.30)\n",
            "Requirement already satisfied: httpcore==1.* in /usr/local/lib/python3.10/dist-packages (from httpx>=0.27.0->chromadb) (1.0.7)\n",
            "Requirement already satisfied: idna in /usr/local/lib/python3.10/dist-packages (from httpx>=0.27.0->chromadb) (3.10)\n",
            "Requirement already satisfied: h11<0.15,>=0.13 in /usr/local/lib/python3.10/dist-packages (from httpcore==1.*->httpx>=0.27.0->chromadb) (0.14.0)\n",
            "Requirement already satisfied: six>=1.9.0 in /usr/local/lib/python3.10/dist-packages (from kubernetes>=28.1.0->chromadb) (1.17.0)\n",
            "Requirement already satisfied: python-dateutil>=2.5.3 in /usr/local/lib/python3.10/dist-packages (from kubernetes>=28.1.0->chromadb) (2.8.2)\n",
            "Requirement already satisfied: google-auth>=1.0.1 in /usr/local/lib/python3.10/dist-packages (from kubernetes>=28.1.0->chromadb) (2.27.0)\n",
            "Requirement already satisfied: websocket-client!=0.40.0,!=0.41.*,!=0.42.*,>=0.32.0 in /usr/local/lib/python3.10/dist-packages (from kubernetes>=28.1.0->chromadb) (1.8.0)\n",
            "Requirement already satisfied: requests in /usr/local/lib/python3.10/dist-packages (from kubernetes>=28.1.0->chromadb) (2.32.3)\n",
            "Requirement already satisfied: requests-oauthlib in /usr/local/lib/python3.10/dist-packages (from kubernetes>=28.1.0->chromadb) (1.3.1)\n",
            "Requirement already satisfied: oauthlib>=3.2.2 in /usr/local/lib/python3.10/dist-packages (from kubernetes>=28.1.0->chromadb) (3.2.2)\n",
            "Requirement already satisfied: urllib3>=1.24.2 in /usr/local/lib/python3.10/dist-packages (from kubernetes>=28.1.0->chromadb) (2.2.3)\n",
            "Collecting durationpy>=0.7 (from kubernetes>=28.1.0->chromadb)\n",
            "  Downloading durationpy-0.9-py3-none-any.whl.metadata (338 bytes)\n",
            "Collecting coloredlogs (from onnxruntime>=1.14.1->chromadb)\n",
            "  Downloading coloredlogs-15.0.1-py2.py3-none-any.whl.metadata (12 kB)\n",
            "Requirement already satisfied: flatbuffers in /usr/local/lib/python3.10/dist-packages (from onnxruntime>=1.14.1->chromadb) (24.3.25)\n",
            "Requirement already satisfied: protobuf in /usr/local/lib/python3.10/dist-packages (from onnxruntime>=1.14.1->chromadb) (4.25.5)\n",
            "Requirement already satisfied: sympy in /usr/local/lib/python3.10/dist-packages (from onnxruntime>=1.14.1->chromadb) (1.13.1)\n",
            "Requirement already satisfied: deprecated>=1.2.6 in /usr/local/lib/python3.10/dist-packages (from opentelemetry-api>=1.2.0->chromadb) (1.2.15)\n",
            "Requirement already satisfied: importlib-metadata<=8.5.0,>=6.0 in /usr/local/lib/python3.10/dist-packages (from opentelemetry-api>=1.2.0->chromadb) (8.5.0)\n",
            "Requirement already satisfied: googleapis-common-protos~=1.52 in /usr/local/lib/python3.10/dist-packages (from opentelemetry-exporter-otlp-proto-grpc>=1.2.0->chromadb) (1.66.0)\n",
            "Collecting opentelemetry-exporter-otlp-proto-common==1.29.0 (from opentelemetry-exporter-otlp-proto-grpc>=1.2.0->chromadb)\n",
            "  Downloading opentelemetry_exporter_otlp_proto_common-1.29.0-py3-none-any.whl.metadata (1.8 kB)\n",
            "Collecting opentelemetry-proto==1.29.0 (from opentelemetry-exporter-otlp-proto-grpc>=1.2.0->chromadb)\n",
            "  Downloading opentelemetry_proto-1.29.0-py3-none-any.whl.metadata (2.3 kB)\n",
            "Collecting protobuf (from onnxruntime>=1.14.1->chromadb)\n",
            "  Downloading protobuf-5.29.1-cp38-abi3-manylinux2014_x86_64.whl.metadata (592 bytes)\n",
            "Collecting opentelemetry-instrumentation-asgi==0.50b0 (from opentelemetry-instrumentation-fastapi>=0.41b0->chromadb)\n",
            "  Downloading opentelemetry_instrumentation_asgi-0.50b0-py3-none-any.whl.metadata (1.9 kB)\n",
            "Collecting opentelemetry-instrumentation==0.50b0 (from opentelemetry-instrumentation-fastapi>=0.41b0->chromadb)\n",
            "  Downloading opentelemetry_instrumentation-0.50b0-py3-none-any.whl.metadata (6.1 kB)\n",
            "Requirement already satisfied: opentelemetry-semantic-conventions==0.50b0 in /usr/local/lib/python3.10/dist-packages (from opentelemetry-instrumentation-fastapi>=0.41b0->chromadb) (0.50b0)\n",
            "Collecting opentelemetry-util-http==0.50b0 (from opentelemetry-instrumentation-fastapi>=0.41b0->chromadb)\n",
            "  Downloading opentelemetry_util_http-0.50b0-py3-none-any.whl.metadata (2.5 kB)\n",
            "Requirement already satisfied: wrapt<2.0.0,>=1.0.0 in /usr/local/lib/python3.10/dist-packages (from opentelemetry-instrumentation==0.50b0->opentelemetry-instrumentation-fastapi>=0.41b0->chromadb) (1.17.0)\n",
            "Collecting asgiref~=3.0 (from opentelemetry-instrumentation-asgi==0.50b0->opentelemetry-instrumentation-fastapi>=0.41b0->chromadb)\n",
            "  Downloading asgiref-3.8.1-py3-none-any.whl.metadata (9.3 kB)\n",
            "Collecting monotonic>=1.5 (from posthog>=2.4.0->chromadb)\n",
            "  Downloading monotonic-1.6-py2.py3-none-any.whl.metadata (1.5 kB)\n",
            "Collecting backoff>=1.10.0 (from posthog>=2.4.0->chromadb)\n",
            "  Downloading backoff-2.2.1-py3-none-any.whl.metadata (14 kB)\n",
            "Requirement already satisfied: annotated-types>=0.6.0 in /usr/local/lib/python3.10/dist-packages (from pydantic>=1.9->chromadb) (0.7.0)\n",
            "Requirement already satisfied: pydantic-core==2.27.1 in /usr/local/lib/python3.10/dist-packages (from pydantic>=1.9->chromadb) (2.27.1)\n",
            "Requirement already satisfied: markdown-it-py>=2.2.0 in /usr/local/lib/python3.10/dist-packages (from rich>=10.11.0->chromadb) (3.0.0)\n",
            "Requirement already satisfied: pygments<3.0.0,>=2.13.0 in /usr/local/lib/python3.10/dist-packages (from rich>=10.11.0->chromadb) (2.18.0)\n",
            "Requirement already satisfied: huggingface-hub<1.0,>=0.16.4 in /usr/local/lib/python3.10/dist-packages (from tokenizers<=0.20.3,>=0.13.2->chromadb) (0.26.5)\n",
            "Requirement already satisfied: click>=8.0.0 in /usr/local/lib/python3.10/dist-packages (from typer>=0.9.0->chromadb) (8.1.7)\n",
            "Requirement already satisfied: shellingham>=1.3.0 in /usr/local/lib/python3.10/dist-packages (from typer>=0.9.0->chromadb) (1.5.4)\n",
            "Collecting httptools>=0.6.3 (from uvicorn[standard]>=0.18.3->chromadb)\n",
            "  Downloading httptools-0.6.4-cp310-cp310-manylinux_2_5_x86_64.manylinux1_x86_64.manylinux_2_17_x86_64.manylinux2014_x86_64.whl.metadata (3.6 kB)\n",
            "Requirement already satisfied: python-dotenv>=0.13 in /usr/local/lib/python3.10/dist-packages (from uvicorn[standard]>=0.18.3->chromadb) (1.0.1)\n",
            "Collecting uvloop!=0.15.0,!=0.15.1,>=0.14.0 (from uvicorn[standard]>=0.18.3->chromadb)\n",
            "  Downloading uvloop-0.21.0-cp310-cp310-manylinux_2_17_x86_64.manylinux2014_x86_64.whl.metadata (4.9 kB)\n",
            "Collecting watchfiles>=0.13 (from uvicorn[standard]>=0.18.3->chromadb)\n",
            "  Downloading watchfiles-1.0.3-cp310-cp310-manylinux_2_17_x86_64.manylinux2014_x86_64.whl.metadata (4.9 kB)\n",
            "Requirement already satisfied: websockets>=10.4 in /usr/local/lib/python3.10/dist-packages (from uvicorn[standard]>=0.18.3->chromadb) (14.1)\n",
            "Requirement already satisfied: cachetools<6.0,>=2.0.0 in /usr/local/lib/python3.10/dist-packages (from google-auth>=1.0.1->kubernetes>=28.1.0->chromadb) (5.5.0)\n",
            "Requirement already satisfied: pyasn1-modules>=0.2.1 in /usr/local/lib/python3.10/dist-packages (from google-auth>=1.0.1->kubernetes>=28.1.0->chromadb) (0.4.1)\n",
            "Requirement already satisfied: rsa<5,>=3.1.4 in /usr/local/lib/python3.10/dist-packages (from google-auth>=1.0.1->kubernetes>=28.1.0->chromadb) (4.9)\n",
            "Requirement already satisfied: filelock in /usr/local/lib/python3.10/dist-packages (from huggingface-hub<1.0,>=0.16.4->tokenizers<=0.20.3,>=0.13.2->chromadb) (3.16.1)\n",
            "Requirement already satisfied: fsspec>=2023.5.0 in /usr/local/lib/python3.10/dist-packages (from huggingface-hub<1.0,>=0.16.4->tokenizers<=0.20.3,>=0.13.2->chromadb) (2024.10.0)\n",
            "Requirement already satisfied: zipp>=3.20 in /usr/local/lib/python3.10/dist-packages (from importlib-metadata<=8.5.0,>=6.0->opentelemetry-api>=1.2.0->chromadb) (3.21.0)\n",
            "Requirement already satisfied: mdurl~=0.1 in /usr/local/lib/python3.10/dist-packages (from markdown-it-py>=2.2.0->rich>=10.11.0->chromadb) (0.1.2)\n",
            "Requirement already satisfied: charset-normalizer<4,>=2 in /usr/local/lib/python3.10/dist-packages (from requests->kubernetes>=28.1.0->chromadb) (3.4.0)\n",
            "Requirement already satisfied: sniffio>=1.1 in /usr/local/lib/python3.10/dist-packages (from anyio->httpx>=0.27.0->chromadb) (1.3.1)\n",
            "Requirement already satisfied: exceptiongroup in /usr/local/lib/python3.10/dist-packages (from anyio->httpx>=0.27.0->chromadb) (1.2.2)\n",
            "Collecting humanfriendly>=9.1 (from coloredlogs->onnxruntime>=1.14.1->chromadb)\n",
            "  Downloading humanfriendly-10.0-py2.py3-none-any.whl.metadata (9.2 kB)\n",
            "Requirement already satisfied: mpmath<1.4,>=1.1.0 in /usr/local/lib/python3.10/dist-packages (from sympy->onnxruntime>=1.14.1->chromadb) (1.3.0)\n",
            "Requirement already satisfied: pyasn1<0.7.0,>=0.4.6 in /usr/local/lib/python3.10/dist-packages (from pyasn1-modules>=0.2.1->google-auth>=1.0.1->kubernetes>=28.1.0->chromadb) (0.6.1)\n",
            "Downloading chromadb-0.5.23-py3-none-any.whl (628 kB)\n",
            "\u001b[2K   \u001b[90m━━━━━━━━━━━━━━━━━━━━━━━━━━━━━━━━━━━━━━━━\u001b[0m \u001b[32m628.3/628.3 kB\u001b[0m \u001b[31m15.6 MB/s\u001b[0m eta \u001b[36m0:00:00\u001b[0m\n",
            "\u001b[?25hDownloading chroma_hnswlib-0.7.6-cp310-cp310-manylinux_2_17_x86_64.manylinux2014_x86_64.whl (2.4 MB)\n",
            "\u001b[2K   \u001b[90m━━━━━━━━━━━━━━━━━━━━━━━━━━━━━━━━━━━━━━━━\u001b[0m \u001b[32m2.4/2.4 MB\u001b[0m \u001b[31m46.2 MB/s\u001b[0m eta \u001b[36m0:00:00\u001b[0m\n",
            "\u001b[?25hDownloading bcrypt-4.2.1-cp39-abi3-manylinux_2_28_x86_64.whl (278 kB)\n",
            "\u001b[2K   \u001b[90m━━━━━━━━━━━━━━━━━━━━━━━━━━━━━━━━━━━━━━━━\u001b[0m \u001b[32m278.6/278.6 kB\u001b[0m \u001b[31m17.0 MB/s\u001b[0m eta \u001b[36m0:00:00\u001b[0m\n",
            "\u001b[?25hDownloading build-1.2.2.post1-py3-none-any.whl (22 kB)\n",
            "Downloading fastapi-0.115.6-py3-none-any.whl (94 kB)\n",
            "\u001b[2K   \u001b[90m━━━━━━━━━━━━━━━━━━━━━━━━━━━━━━━━━━━━━━━━\u001b[0m \u001b[32m94.8/94.8 kB\u001b[0m \u001b[31m6.5 MB/s\u001b[0m eta \u001b[36m0:00:00\u001b[0m\n",
            "\u001b[?25hDownloading kubernetes-31.0.0-py2.py3-none-any.whl (1.9 MB)\n",
            "\u001b[2K   \u001b[90m━━━━━━━━━━━━━━━━━━━━━━━━━━━━━━━━━━━━━━━━\u001b[0m \u001b[32m1.9/1.9 MB\u001b[0m \u001b[31m46.3 MB/s\u001b[0m eta \u001b[36m0:00:00\u001b[0m\n",
            "\u001b[?25hDownloading mmh3-5.0.1-cp310-cp310-manylinux_2_5_x86_64.manylinux1_x86_64.manylinux_2_17_x86_64.manylinux2014_x86_64.whl (93 kB)\n",
            "\u001b[2K   \u001b[90m━━━━━━━━━━━━━━━━━━━━━━━━━━━━━━━━━━━━━━━━\u001b[0m \u001b[32m93.2/93.2 kB\u001b[0m \u001b[31m5.0 MB/s\u001b[0m eta \u001b[36m0:00:00\u001b[0m\n",
            "\u001b[?25hDownloading onnxruntime-1.20.1-cp310-cp310-manylinux_2_27_x86_64.manylinux_2_28_x86_64.whl (13.3 MB)\n",
            "\u001b[2K   \u001b[90m━━━━━━━━━━━━━━━━━━━━━━━━━━━━━━━━━━━━━━━━\u001b[0m \u001b[32m13.3/13.3 MB\u001b[0m \u001b[31m55.0 MB/s\u001b[0m eta \u001b[36m0:00:00\u001b[0m\n",
            "\u001b[?25hDownloading opentelemetry_exporter_otlp_proto_grpc-1.29.0-py3-none-any.whl (18 kB)\n",
            "Downloading opentelemetry_exporter_otlp_proto_common-1.29.0-py3-none-any.whl (18 kB)\n",
            "Downloading opentelemetry_proto-1.29.0-py3-none-any.whl (55 kB)\n",
            "\u001b[2K   \u001b[90m━━━━━━━━━━━━━━━━━━━━━━━━━━━━━━━━━━━━━━━━\u001b[0m \u001b[32m55.8/55.8 kB\u001b[0m \u001b[31m3.3 MB/s\u001b[0m eta \u001b[36m0:00:00\u001b[0m\n",
            "\u001b[?25hDownloading opentelemetry_instrumentation_fastapi-0.50b0-py3-none-any.whl (12 kB)\n",
            "Downloading opentelemetry_instrumentation-0.50b0-py3-none-any.whl (30 kB)\n",
            "Downloading opentelemetry_instrumentation_asgi-0.50b0-py3-none-any.whl (16 kB)\n",
            "Downloading opentelemetry_util_http-0.50b0-py3-none-any.whl (6.9 kB)\n",
            "Downloading overrides-7.7.0-py3-none-any.whl (17 kB)\n",
            "Downloading posthog-3.7.4-py2.py3-none-any.whl (54 kB)\n",
            "\u001b[2K   \u001b[90m━━━━━━━━━━━━━━━━━━━━━━━━━━━━━━━━━━━━━━━━\u001b[0m \u001b[32m54.8/54.8 kB\u001b[0m \u001b[31m3.5 MB/s\u001b[0m eta \u001b[36m0:00:00\u001b[0m\n",
            "\u001b[?25hDownloading uvicorn-0.34.0-py3-none-any.whl (62 kB)\n",
            "\u001b[2K   \u001b[90m━━━━━━━━━━━━━━━━━━━━━━━━━━━━━━━━━━━━━━━━\u001b[0m \u001b[32m62.3/62.3 kB\u001b[0m \u001b[31m4.0 MB/s\u001b[0m eta \u001b[36m0:00:00\u001b[0m\n",
            "\u001b[?25hDownloading backoff-2.2.1-py3-none-any.whl (15 kB)\n",
            "Downloading durationpy-0.9-py3-none-any.whl (3.5 kB)\n",
            "Downloading httptools-0.6.4-cp310-cp310-manylinux_2_5_x86_64.manylinux1_x86_64.manylinux_2_17_x86_64.manylinux2014_x86_64.whl (442 kB)\n",
            "\u001b[2K   \u001b[90m━━━━━━━━━━━━━━━━━━━━━━━━━━━━━━━━━━━━━━━━\u001b[0m \u001b[32m442.1/442.1 kB\u001b[0m \u001b[31m19.8 MB/s\u001b[0m eta \u001b[36m0:00:00\u001b[0m\n",
            "\u001b[?25hDownloading monotonic-1.6-py2.py3-none-any.whl (8.2 kB)\n",
            "Downloading protobuf-5.29.1-cp38-abi3-manylinux2014_x86_64.whl (319 kB)\n",
            "\u001b[2K   \u001b[90m━━━━━━━━━━━━━━━━━━━━━━━━━━━━━━━━━━━━━━━━\u001b[0m \u001b[32m319.7/319.7 kB\u001b[0m \u001b[31m21.4 MB/s\u001b[0m eta \u001b[36m0:00:00\u001b[0m\n",
            "\u001b[?25hDownloading starlette-0.41.3-py3-none-any.whl (73 kB)\n",
            "\u001b[2K   \u001b[90m━━━━━━━━━━━━━━━━━━━━━━━━━━━━━━━━━━━━━━━━\u001b[0m \u001b[32m73.2/73.2 kB\u001b[0m \u001b[31m4.9 MB/s\u001b[0m eta \u001b[36m0:00:00\u001b[0m\n",
            "\u001b[?25hDownloading uvloop-0.21.0-cp310-cp310-manylinux_2_17_x86_64.manylinux2014_x86_64.whl (3.8 MB)\n",
            "\u001b[2K   \u001b[90m━━━━━━━━━━━━━━━━━━━━━━━━━━━━━━━━━━━━━━━━\u001b[0m \u001b[32m3.8/3.8 MB\u001b[0m \u001b[31m82.5 MB/s\u001b[0m eta \u001b[36m0:00:00\u001b[0m\n",
            "\u001b[?25hDownloading watchfiles-1.0.3-cp310-cp310-manylinux_2_17_x86_64.manylinux2014_x86_64.whl (443 kB)\n",
            "\u001b[2K   \u001b[90m━━━━━━━━━━━━━━━━━━━━━━━━━━━━━━━━━━━━━━━━\u001b[0m \u001b[32m443.8/443.8 kB\u001b[0m \u001b[31m24.7 MB/s\u001b[0m eta \u001b[36m0:00:00\u001b[0m\n",
            "\u001b[?25hDownloading coloredlogs-15.0.1-py2.py3-none-any.whl (46 kB)\n",
            "\u001b[2K   \u001b[90m━━━━━━━━━━━━━━━━━━━━━━━━━━━━━━━━━━━━━━━━\u001b[0m \u001b[32m46.0/46.0 kB\u001b[0m \u001b[31m2.8 MB/s\u001b[0m eta \u001b[36m0:00:00\u001b[0m\n",
            "\u001b[?25hDownloading pyproject_hooks-1.2.0-py3-none-any.whl (10 kB)\n",
            "Downloading asgiref-3.8.1-py3-none-any.whl (23 kB)\n",
            "Downloading humanfriendly-10.0-py2.py3-none-any.whl (86 kB)\n",
            "\u001b[2K   \u001b[90m━━━━━━━━━━━━━━━━━━━━━━━━━━━━━━━━━━━━━━━━\u001b[0m \u001b[32m86.8/86.8 kB\u001b[0m \u001b[31m5.0 MB/s\u001b[0m eta \u001b[36m0:00:00\u001b[0m\n",
            "\u001b[?25hBuilding wheels for collected packages: pypika\n",
            "  Building wheel for pypika (pyproject.toml) ... \u001b[?25l\u001b[?25hdone\n",
            "  Created wheel for pypika: filename=PyPika-0.48.9-py2.py3-none-any.whl size=53725 sha256=b9e2dcff9cbcf0b4ef0a561fb0ef0d6d562f7f3769803802b92b50588c6b9193\n",
            "  Stored in directory: /root/.cache/pip/wheels/e1/26/51/d0bffb3d2fd82256676d7ad3003faea3bd6dddc9577af665f4\n",
            "Successfully built pypika\n",
            "Installing collected packages: pypika, monotonic, durationpy, uvloop, uvicorn, pyproject_hooks, protobuf, overrides, opentelemetry-util-http, mmh3, humanfriendly, httptools, chroma-hnswlib, bcrypt, backoff, asgiref, watchfiles, starlette, posthog, opentelemetry-proto, coloredlogs, build, opentelemetry-exporter-otlp-proto-common, onnxruntime, kubernetes, fastapi, opentelemetry-instrumentation, opentelemetry-instrumentation-asgi, opentelemetry-exporter-otlp-proto-grpc, opentelemetry-instrumentation-fastapi, chromadb\n",
            "  Attempting uninstall: protobuf\n",
            "    Found existing installation: protobuf 4.25.5\n",
            "    Uninstalling protobuf-4.25.5:\n",
            "      Successfully uninstalled protobuf-4.25.5\n",
            "\u001b[31mERROR: pip's dependency resolver does not currently take into account all the packages that are installed. This behaviour is the source of the following dependency conflicts.\n",
            "tensorflow 2.17.1 requires protobuf!=4.21.0,!=4.21.1,!=4.21.2,!=4.21.3,!=4.21.4,!=4.21.5,<5.0.0dev,>=3.20.3, but you have protobuf 5.29.1 which is incompatible.\n",
            "tensorflow-metadata 1.13.1 requires protobuf<5,>=3.20.3, but you have protobuf 5.29.1 which is incompatible.\u001b[0m\u001b[31m\n",
            "\u001b[0mSuccessfully installed asgiref-3.8.1 backoff-2.2.1 bcrypt-4.2.1 build-1.2.2.post1 chroma-hnswlib-0.7.6 chromadb-0.5.23 coloredlogs-15.0.1 durationpy-0.9 fastapi-0.115.6 httptools-0.6.4 humanfriendly-10.0 kubernetes-31.0.0 mmh3-5.0.1 monotonic-1.6 onnxruntime-1.20.1 opentelemetry-exporter-otlp-proto-common-1.29.0 opentelemetry-exporter-otlp-proto-grpc-1.29.0 opentelemetry-instrumentation-0.50b0 opentelemetry-instrumentation-asgi-0.50b0 opentelemetry-instrumentation-fastapi-0.50b0 opentelemetry-proto-1.29.0 opentelemetry-util-http-0.50b0 overrides-7.7.0 posthog-3.7.4 protobuf-5.29.1 pypika-0.48.9 pyproject_hooks-1.2.0 starlette-0.41.3 uvicorn-0.34.0 uvloop-0.21.0 watchfiles-1.0.3\n"
          ]
        }
      ]
    },
    {
      "cell_type": "code",
      "source": [
        "vectorstore = Chroma.from_documents(persist_directory=\"/content/drive/MyDrive/Colab Notebooks/AI_FTCIntoTheDeep_RAG/AI_FTCIntoTheDeep_RAG_DB\",\n",
        "    documents=chunks,\n",
        "    embedding=cohereEmbed,\n",
        ")"
      ],
      "metadata": {
        "id": "jr_tRPgaa46T"
      },
      "execution_count": 69,
      "outputs": []
    },
    {
      "cell_type": "code",
      "source": [
        "vectorstore.persist()"
      ],
      "metadata": {
        "id": "1YLgw0YDcfh7"
      },
      "execution_count": 70,
      "outputs": []
    },
    {
      "cell_type": "code",
      "source": [
        "vectorstore_retriever = vectorstore.as_retriever()\n"
      ],
      "metadata": {
        "id": "23WZ-xg6dteT"
      },
      "execution_count": 71,
      "outputs": []
    },
    {
      "cell_type": "code",
      "source": [
        "from langchain.tools.retriever import create_retriever_tool\n"
      ],
      "metadata": {
        "id": "kZLrr5c8eEmj"
      },
      "execution_count": 72,
      "outputs": []
    },
    {
      "cell_type": "code",
      "source": [
        "vectorstore_search = create_retriever_tool(\n",
        "    retriever=vectorstore_retriever,\n",
        "    name=\"vectorstore_search\",\n",
        "    description=\"Retrieve relevant info from a vectorstore that contains documents related to FTC Challenge Into The Deep Competition Manual\",\n",
        ")"
      ],
      "metadata": {
        "id": "VF6NG3aFeG7Z"
      },
      "execution_count": 73,
      "outputs": []
    },
    {
      "cell_type": "code",
      "source": [
        "from langchain_community.tools.tavily_search import TavilySearchResults\n",
        "from langchain_core.pydantic_v1 import BaseModel, Field\n",
        "\n",
        "# Define the input schema for the search tool\n",
        "class TavilySearchInput(BaseModel):\n",
        "    query: str = Field(description=\"Query to search the internet with\")\n",
        "\n",
        "    @classmethod\n",
        "    def model_json_schema(cls):\n",
        "        # Return the JSON schema of the model\n",
        "        return cls.schema()\n",
        "\n",
        "# Initialize the internet search tool\n",
        "internet_search = TavilySearchResults()\n",
        "internet_search.name = \"internet_search\"\n",
        "internet_search.description = \"Returns a list of relevant document snippets for a textual query retrieved from the internet.\"\n",
        "internet_search.args_schema = TavilySearchInput  # Assign the schema to the tool\n"
      ],
      "metadata": {
        "id": "RGH0w8b8fOnl"
      },
      "execution_count": 74,
      "outputs": []
    },
    {
      "cell_type": "code",
      "source": [
        "from langchain.agents import AgentExecutor\n",
        "from langchain_cohere.react_multi_hop.agent import create_cohere_react_agent\n",
        "from langchain_core.prompts import ChatPromptTemplate\n",
        "\n",
        "# LLM\n",
        "from langchain_cohere.chat_models import ChatCohere\n",
        "\n",
        "chat = ChatCohere(model=\"command-r-plus\", temperature=0.3)\n",
        "\n",
        "# Preamble\n",
        "preamble = \"\"\"\n",
        "You are an expert who answers the user's question with the most relevant datasource.\n",
        "You are equipped with an internet search tool and a special vectorstore of information related to FTC Challenge Into The Deep Competition Manual.\n",
        "If the query covers the topics of FTC Challenge Into The Deep Competition Manual then use the vectorstore search.\n",
        "\"\"\"\n",
        "\n",
        "# Prompt\n",
        "prompt = ChatPromptTemplate.from_template(\"{input}\")\n",
        "\n",
        "# Create the ReAct agent\n",
        "agent = create_cohere_react_agent(\n",
        "    llm=chat,\n",
        "    tools=[internet_search, vectorstore_search],\n",
        "    prompt=prompt,\n",
        ")"
      ],
      "metadata": {
        "id": "mJ49bZpneK5g"
      },
      "execution_count": 75,
      "outputs": []
    },
    {
      "cell_type": "code",
      "source": [
        "# Agent Executor\n",
        "\n",
        "agent_executor = AgentExecutor(\n",
        "    agent=agent, tools=[internet_search, vectorstore_search], verbose=True\n",
        ")"
      ],
      "metadata": {
        "id": "HJU-Cw7Je-GU"
      },
      "execution_count": 76,
      "outputs": []
    },
    {
      "cell_type": "code",
      "source": [
        "output = agent_executor.invoke(\n",
        "    {\n",
        "        \"input\": \"What is the general election schedule of India 2024?\",\n",
        "        \"preamble\": preamble,\n",
        "    }\n",
        ")\n",
        "\n",
        "print(output)\n",
        "\n",
        "print(output['output'])"
      ],
      "metadata": {
        "colab": {
          "base_uri": "https://localhost:8080/"
        },
        "id": "zAQA7-i-hJ98",
        "outputId": "59a5cf58-16ca-40f1-8aff-b0ce3e45305b"
      },
      "execution_count": 77,
      "outputs": [
        {
          "output_type": "stream",
          "name": "stdout",
          "text": [
            "\n",
            "\n",
            "\u001b[1m> Entering new AgentExecutor chain...\u001b[0m\n",
            "\u001b[32;1m\u001b[1;3m\n",
            "I will search for the general election schedule of India 2024 and write an answer based on what I find.\n",
            "{'tool_name': 'internet_search', 'parameters': {'query': 'general election schedule of India 2024'}}\n",
            "\u001b[0m\u001b[36;1m\u001b[1;3m[{'url': 'https://www.reuters.com/graphics/INDIA-ELECTION/dwpkemxldpm/', 'content': \"Schedule of 2024 India general elections. The elections in the world's largest democracy for 543 seats will be held in 7 phases. The chart shows India's election schedule over 7 phases with\"}, {'url': 'https://www.india-briefing.com/news/india-2024-elections-parliament-seven-phases-31611.html/', 'content': \"India's 2024 general election dates have been staggered from April 19 to June 1, per the Election Commission of India (ECI). In what is the world's largest electoral exercise, India's voter base of 970 million citizens, spanning 28 states and eight union territories, will vote under a seven-phase schedule.. The ECI will also conduct elections to the state legislative assemblies of Andhra\"}, {'url': 'https://en.wikipedia.org/wiki/Election_schedule_of_the_2024_Indian_general_election', 'content': 'On 16th March 2024, the Election Commission of India announced the schedule for the 2024 Indian general election, with Madhya Pradesh scheduled to vote during the first four phases on 19, 26 April, 7 and 13 May. Schedule of 2024 Indian general election in Madhya Pradesh, along with the voter turnout for each phase.'}, {'url': 'https://www.india.gov.in/spotlight/general-election-results-2024', 'content': 'The Election Commission of India (ECI) announced the schedule for the 2024 General Elections to the 18th Lok Sabha and the Legislative Assemblies of Andhra Pradesh, Arunachal Pradesh, Odisha, and Sikkim on March 16, 2024. The elections, including certain bye-elections, were conducted in seven phases, ensuring a smooth and comprehensive electoral process across the vast and diverse country.'}, {'url': 'https://www.thehindu.com/elections/lok-sabha/general-elections-2024-full-schedule/article67953556.ece', 'content': 'Date of counting: June 4, 2024\\nAlso read: What is Model Code of Conduct, and what are the penalties for violation?\\nRelated Topics\\nGeneral Elections 2024\\n/\\nelection\\n/\\nElection Commission of India\\n/\\nnational elections\\n/\\nBharatiya Janata Party\\nTop News Today\\nBACK TO TOP\\nTerms & conditions\\xa0\\xa0|\\xa0\\xa0Institutional Subscriber\\nComments\\nComments have to be in English, and in full sentences. To enjoy additional benefits\\nCONNECT WITH US\\nGeneral Election 2024: full schedule\\nElections to Assemblies of Andhra Pradesh, Arunachal Pradesh Odisha and Sikkim, and the bypolls to 26 Assembly seats in Bihar, Gujarat, Haryana, Jharkhand, Uttar Pradesh, Karnataka, Tamil Nadu, Tripura will be held along with the Lok Sabha election schedule in their respective States\\nMarch 16, 2024 04:44 pm | Updated March 20, 2024 11:49 am IST\\nLok Sabha 2024 elections will be held between April 19 and June 1, across seven phases.\\n However, the counting of votes for Arunachal Pradesh and Sikkim Assembly elections alone will be held on June 2, 2024 since the tenure of these Assemblies are expiring on the same day.\\n Chief Election Commissioner Rajiv Kumar on March 16 announced the schedule for the upcoming 18th Lok Sabha elections, and for the Assembly seats in Andhra Pradesh, Arunachal Pradesh, Odisha and Sikkim.\\n Click to remove AMP mode\\nThe counting of votes will be on June 4, 2024 The tenure of the 17th Lok Sabha is scheduled to end on June 16, 2024.'}]\u001b[0m\u001b[32;1m\u001b[1;3mRelevant Documents: 0,1,2,3,4\n",
            "Cited Documents: 0,1,2,3,4\n",
            "Answer: The 2024 general election in India will be held in seven phases, from April 19 to June 1. The counting of votes will take place on June 4.\n",
            "Grounded answer: The 2024 general election in India will be held in <co: 0,1,3,4>seven phases</co: 0,1,3,4>, from <co: 1,2,4>April 19</co: 1,2,4> to <co: 1,4>June 1</co: 1,4>. The <co: 4>counting of votes</co: 4> will take place on <co: 4>June 4</co: 4>.\u001b[0m\n",
            "\n",
            "\u001b[1m> Finished chain.\u001b[0m\n",
            "{'input': 'What is the general election schedule of India 2024?', 'preamble': \"\\nYou are an expert who answers the user's question with the most relevant datasource.\\nYou are equipped with an internet search tool and a special vectorstore of information related to FTC Challenge Into The Deep Competition Manual.\\nIf the query covers the topics of FTC Challenge Into The Deep Competition Manual then use the vectorstore search.\\n\", 'output': 'The 2024 general election in India will be held in seven phases, from April 19 to June 1. The counting of votes will take place on June 4.', 'citations': [CohereCitation(start=51, end=63, text='seven phases', documents=[{'url': 'https://www.reuters.com/graphics/INDIA-ELECTION/dwpkemxldpm/', 'content': \"Schedule of 2024 India general elections. The elections in the world's largest democracy for 543 seats will be held in 7 phases. The chart shows India's election schedule over 7 phases with\", 'id': 'doc_0'}, {'url': 'https://www.india-briefing.com/news/india-2024-elections-parliament-seven-phases-31611.html/', 'content': \"India's 2024 general election dates have been staggered from April 19 to June 1, per the Election Commission of India (ECI). In what is the world's largest electoral exercise, India's voter base of 970 million citizens, spanning 28 states and eight union territories, will vote under a seven-phase schedule.. The ECI will also conduct elections to the state legislative assemblies of Andhra\", 'id': 'doc_1'}, {'url': 'https://www.india.gov.in/spotlight/general-election-results-2024', 'content': 'The Election Commission of India (ECI) announced the schedule for the 2024 General Elections to the 18th Lok Sabha and the Legislative Assemblies of Andhra Pradesh, Arunachal Pradesh, Odisha, and Sikkim on March 16, 2024. The elections, including certain bye-elections, were conducted in seven phases, ensuring a smooth and comprehensive electoral process across the vast and diverse country.', 'id': 'doc_3'}, {'url': 'https://www.thehindu.com/elections/lok-sabha/general-elections-2024-full-schedule/article67953556.ece', 'content': 'Date of counting: June 4, 2024\\nAlso read: What is Model Code of Conduct, and what are the penalties for violation?\\nRelated Topics\\nGeneral Elections 2024\\n/\\nelection\\n/\\nElection Commission of India\\n/\\nnational elections\\n/\\nBharatiya Janata Party\\nTop News Today\\nBACK TO TOP\\nTerms & conditions\\xa0\\xa0|\\xa0\\xa0Institutional Subscriber\\nComments\\nComments have to be in English, and in full sentences. To enjoy additional benefits\\nCONNECT WITH US\\nGeneral Election 2024: full schedule\\nElections to Assemblies of Andhra Pradesh, Arunachal Pradesh Odisha and Sikkim, and the bypolls to 26 Assembly seats in Bihar, Gujarat, Haryana, Jharkhand, Uttar Pradesh, Karnataka, Tamil Nadu, Tripura will be held along with the Lok Sabha election schedule in their respective States\\nMarch 16, 2024 04:44 pm | Updated March 20, 2024 11:49 am IST\\nLok Sabha 2024 elections will be held between April 19 and June 1, across seven phases.\\n However, the counting of votes for Arunachal Pradesh and Sikkim Assembly elections alone will be held on June 2, 2024 since the tenure of these Assemblies are expiring on the same day.\\n Chief Election Commissioner Rajiv Kumar on March 16 announced the schedule for the upcoming 18th Lok Sabha elections, and for the Assembly seats in Andhra Pradesh, Arunachal Pradesh, Odisha and Sikkim.\\n Click to remove AMP mode\\nThe counting of votes will be on June 4, 2024 The tenure of the 17th Lok Sabha is scheduled to end on June 16, 2024.', 'id': 'doc_4'}], document_ids={'doc_0', 'doc_1', 'doc_3', 'doc_4'}), CohereCitation(start=70, end=78, text='April 19', documents=[{'url': 'https://www.india-briefing.com/news/india-2024-elections-parliament-seven-phases-31611.html/', 'content': \"India's 2024 general election dates have been staggered from April 19 to June 1, per the Election Commission of India (ECI). In what is the world's largest electoral exercise, India's voter base of 970 million citizens, spanning 28 states and eight union territories, will vote under a seven-phase schedule.. The ECI will also conduct elections to the state legislative assemblies of Andhra\", 'id': 'doc_1'}, {'url': 'https://en.wikipedia.org/wiki/Election_schedule_of_the_2024_Indian_general_election', 'content': 'On 16th March 2024, the Election Commission of India announced the schedule for the 2024 Indian general election, with Madhya Pradesh scheduled to vote during the first four phases on 19, 26 April, 7 and 13 May. Schedule of 2024 Indian general election in Madhya Pradesh, along with the voter turnout for each phase.', 'id': 'doc_2'}, {'url': 'https://www.thehindu.com/elections/lok-sabha/general-elections-2024-full-schedule/article67953556.ece', 'content': 'Date of counting: June 4, 2024\\nAlso read: What is Model Code of Conduct, and what are the penalties for violation?\\nRelated Topics\\nGeneral Elections 2024\\n/\\nelection\\n/\\nElection Commission of India\\n/\\nnational elections\\n/\\nBharatiya Janata Party\\nTop News Today\\nBACK TO TOP\\nTerms & conditions\\xa0\\xa0|\\xa0\\xa0Institutional Subscriber\\nComments\\nComments have to be in English, and in full sentences. To enjoy additional benefits\\nCONNECT WITH US\\nGeneral Election 2024: full schedule\\nElections to Assemblies of Andhra Pradesh, Arunachal Pradesh Odisha and Sikkim, and the bypolls to 26 Assembly seats in Bihar, Gujarat, Haryana, Jharkhand, Uttar Pradesh, Karnataka, Tamil Nadu, Tripura will be held along with the Lok Sabha election schedule in their respective States\\nMarch 16, 2024 04:44 pm | Updated March 20, 2024 11:49 am IST\\nLok Sabha 2024 elections will be held between April 19 and June 1, across seven phases.\\n However, the counting of votes for Arunachal Pradesh and Sikkim Assembly elections alone will be held on June 2, 2024 since the tenure of these Assemblies are expiring on the same day.\\n Chief Election Commissioner Rajiv Kumar on March 16 announced the schedule for the upcoming 18th Lok Sabha elections, and for the Assembly seats in Andhra Pradesh, Arunachal Pradesh, Odisha and Sikkim.\\n Click to remove AMP mode\\nThe counting of votes will be on June 4, 2024 The tenure of the 17th Lok Sabha is scheduled to end on June 16, 2024.', 'id': 'doc_4'}], document_ids={'doc_1', 'doc_4', 'doc_2'}), CohereCitation(start=82, end=88, text='June 1', documents=[{'url': 'https://www.india-briefing.com/news/india-2024-elections-parliament-seven-phases-31611.html/', 'content': \"India's 2024 general election dates have been staggered from April 19 to June 1, per the Election Commission of India (ECI). In what is the world's largest electoral exercise, India's voter base of 970 million citizens, spanning 28 states and eight union territories, will vote under a seven-phase schedule.. The ECI will also conduct elections to the state legislative assemblies of Andhra\", 'id': 'doc_1'}, {'url': 'https://www.thehindu.com/elections/lok-sabha/general-elections-2024-full-schedule/article67953556.ece', 'content': 'Date of counting: June 4, 2024\\nAlso read: What is Model Code of Conduct, and what are the penalties for violation?\\nRelated Topics\\nGeneral Elections 2024\\n/\\nelection\\n/\\nElection Commission of India\\n/\\nnational elections\\n/\\nBharatiya Janata Party\\nTop News Today\\nBACK TO TOP\\nTerms & conditions\\xa0\\xa0|\\xa0\\xa0Institutional Subscriber\\nComments\\nComments have to be in English, and in full sentences. To enjoy additional benefits\\nCONNECT WITH US\\nGeneral Election 2024: full schedule\\nElections to Assemblies of Andhra Pradesh, Arunachal Pradesh Odisha and Sikkim, and the bypolls to 26 Assembly seats in Bihar, Gujarat, Haryana, Jharkhand, Uttar Pradesh, Karnataka, Tamil Nadu, Tripura will be held along with the Lok Sabha election schedule in their respective States\\nMarch 16, 2024 04:44 pm | Updated March 20, 2024 11:49 am IST\\nLok Sabha 2024 elections will be held between April 19 and June 1, across seven phases.\\n However, the counting of votes for Arunachal Pradesh and Sikkim Assembly elections alone will be held on June 2, 2024 since the tenure of these Assemblies are expiring on the same day.\\n Chief Election Commissioner Rajiv Kumar on March 16 announced the schedule for the upcoming 18th Lok Sabha elections, and for the Assembly seats in Andhra Pradesh, Arunachal Pradesh, Odisha and Sikkim.\\n Click to remove AMP mode\\nThe counting of votes will be on June 4, 2024 The tenure of the 17th Lok Sabha is scheduled to end on June 16, 2024.', 'id': 'doc_4'}], document_ids={'doc_1', 'doc_4'}), CohereCitation(start=94, end=111, text='counting of votes', documents=[{'url': 'https://www.thehindu.com/elections/lok-sabha/general-elections-2024-full-schedule/article67953556.ece', 'content': 'Date of counting: June 4, 2024\\nAlso read: What is Model Code of Conduct, and what are the penalties for violation?\\nRelated Topics\\nGeneral Elections 2024\\n/\\nelection\\n/\\nElection Commission of India\\n/\\nnational elections\\n/\\nBharatiya Janata Party\\nTop News Today\\nBACK TO TOP\\nTerms & conditions\\xa0\\xa0|\\xa0\\xa0Institutional Subscriber\\nComments\\nComments have to be in English, and in full sentences. To enjoy additional benefits\\nCONNECT WITH US\\nGeneral Election 2024: full schedule\\nElections to Assemblies of Andhra Pradesh, Arunachal Pradesh Odisha and Sikkim, and the bypolls to 26 Assembly seats in Bihar, Gujarat, Haryana, Jharkhand, Uttar Pradesh, Karnataka, Tamil Nadu, Tripura will be held along with the Lok Sabha election schedule in their respective States\\nMarch 16, 2024 04:44 pm | Updated March 20, 2024 11:49 am IST\\nLok Sabha 2024 elections will be held between April 19 and June 1, across seven phases.\\n However, the counting of votes for Arunachal Pradesh and Sikkim Assembly elections alone will be held on June 2, 2024 since the tenure of these Assemblies are expiring on the same day.\\n Chief Election Commissioner Rajiv Kumar on March 16 announced the schedule for the upcoming 18th Lok Sabha elections, and for the Assembly seats in Andhra Pradesh, Arunachal Pradesh, Odisha and Sikkim.\\n Click to remove AMP mode\\nThe counting of votes will be on June 4, 2024 The tenure of the 17th Lok Sabha is scheduled to end on June 16, 2024.', 'id': 'doc_4'}], document_ids={'doc_4'}), CohereCitation(start=131, end=137, text='June 4', documents=[{'url': 'https://www.thehindu.com/elections/lok-sabha/general-elections-2024-full-schedule/article67953556.ece', 'content': 'Date of counting: June 4, 2024\\nAlso read: What is Model Code of Conduct, and what are the penalties for violation?\\nRelated Topics\\nGeneral Elections 2024\\n/\\nelection\\n/\\nElection Commission of India\\n/\\nnational elections\\n/\\nBharatiya Janata Party\\nTop News Today\\nBACK TO TOP\\nTerms & conditions\\xa0\\xa0|\\xa0\\xa0Institutional Subscriber\\nComments\\nComments have to be in English, and in full sentences. To enjoy additional benefits\\nCONNECT WITH US\\nGeneral Election 2024: full schedule\\nElections to Assemblies of Andhra Pradesh, Arunachal Pradesh Odisha and Sikkim, and the bypolls to 26 Assembly seats in Bihar, Gujarat, Haryana, Jharkhand, Uttar Pradesh, Karnataka, Tamil Nadu, Tripura will be held along with the Lok Sabha election schedule in their respective States\\nMarch 16, 2024 04:44 pm | Updated March 20, 2024 11:49 am IST\\nLok Sabha 2024 elections will be held between April 19 and June 1, across seven phases.\\n However, the counting of votes for Arunachal Pradesh and Sikkim Assembly elections alone will be held on June 2, 2024 since the tenure of these Assemblies are expiring on the same day.\\n Chief Election Commissioner Rajiv Kumar on March 16 announced the schedule for the upcoming 18th Lok Sabha elections, and for the Assembly seats in Andhra Pradesh, Arunachal Pradesh, Odisha and Sikkim.\\n Click to remove AMP mode\\nThe counting of votes will be on June 4, 2024 The tenure of the 17th Lok Sabha is scheduled to end on June 16, 2024.', 'id': 'doc_4'}], document_ids={'doc_4'})]}\n",
            "The 2024 general election in India will be held in seven phases, from April 19 to June 1. The counting of votes will take place on June 4.\n"
          ]
        }
      ]
    },
    {
      "cell_type": "code",
      "source": [
        "output = agent_executor.invoke(\n",
        "    {\n",
        "        \"input\": \"What are the robot constraints for the Into the Deep Robot?\",\n",
        "        \"preamble\": preamble,\n",
        "    }\n",
        ")\n",
        "\n",
        "#print(output)\n",
        "\n",
        "print(output['output'])\n"
      ],
      "metadata": {
        "colab": {
          "base_uri": "https://localhost:8080/"
        },
        "id": "otdRaRmWhhQ7",
        "outputId": "d13e8ed3-9263-4729-f19d-8085c052cc2f"
      },
      "execution_count": 81,
      "outputs": [
        {
          "output_type": "stream",
          "name": "stdout",
          "text": [
            "\n",
            "\n",
            "\u001b[1m> Entering new AgentExecutor chain...\u001b[0m\n",
            "\u001b[32;1m\u001b[1;3m\n",
            "I will search the vector store for 'robot constraints' and write an answer based on the results.\n",
            "{'tool_name': 'vectorstore_search', 'parameters': {'query': 'robot constraints'}}\n",
            "\u001b[0m\u001b[33;1m\u001b[1;3mSection 12 ROBOT Construction Rules (R) V7 92 of 144 \n",
            " \n",
            "Teams must also be especially cautious when operating a running ROBOT during \n",
            "inspection, notifying the INSPECTOR that the ROBOT is live and taking every \n",
            "precaution to ensure the process is carried out safely. \n",
            "R103 *There is no ROBOT weight limit. There is no explicit weight limit for FIRST Tech Challenge ROBOTS. \n",
            "While there is no official weight limit, teams should still consider the impact of a \n",
            "ROBOT’S weight on various factors, including but not limited to:  \n",
            "− FIELD TILE damage \n",
            "− battery consumption  \n",
            "− ROBOT transportation \n",
            "− total ROBOT performance \n",
            "R104 There is a horizontal expansion limit. After the MATCH has started, ROBOTS may expand beyond the \n",
            "STARTING CONFIGURATION but are still subject to sizing constraints. The sizing constraints are:  \n",
            "A. there is no vertical height limit relative to the TILE floor for ROBOT extensions,\n",
            "\n",
            "Section 12 ROBOT Construction Rules (R) V7 89 of 144 \n",
            " \n",
            "12  ROBOT Construction Rules  (R)  \n",
            "The rules listed below explicitly address legal parts and materials and how those parts and materials may be \n",
            "used on a ROBOT. A ROBOT is an electromechanical assembly built by the FIRST Tech Challenge team to play \n",
            "the current season’s game and includes all the basic systems required to be an active participant in the game \n",
            "–power, communications, control, and movement about the FIELD.  \n",
            "There are many reasons for the structure of the rules, including safety, reliability, parity, creation of a \n",
            "reasonable design challenge, adherence to professional standards, and impact on the competition. \n",
            "Another intent of these rules is to have all energy sources and active actuation systems on the ROBOT (e.g., \n",
            "batteries, motors, servos, and their controllers) drawn from a well-defined set of options. This is to ensure that\n",
            "\n",
            "may not exceed the constraints specified in section 12 ROBOT Construction Rules (R). \n",
            "I304 *Unless the change is listed below, any change to a ROBOT must get re-inspected. A ROBOT may play \n",
            "MATCHES with a subset of the MECHANISMS that were present during inspection provided the\n",
            "\n",
            "− FIELD TILE damage \n",
            "− battery consumption  \n",
            "− ROBOT transportation \n",
            "− total ROBOT performance \n",
            "R104 There is a horizontal expansion limit. After the MATCH has started, ROBOTS may expand beyond the \n",
            "STARTING CONFIGURATION but are still subject to sizing constraints. The sizing constraints are:\u001b[0m\u001b[32;1m\u001b[1;3mRelevant Documents: 0\n",
            "Cited Documents: 0\n",
            "Answer: There is no weight limit for the Into the Deep Robot, but teams should consider the impact of the robot's weight on factors such as field tile damage, battery consumption, robot transportation and total robot performance. There is a horizontal expansion limit, meaning that robots may expand beyond the starting configuration but are still subject to sizing constraints.\n",
            "Grounded answer: There is <co: 0>no weight limit</co: 0> for the Into the Deep Robot, but teams should consider the <co: 0>impact of the robot's weight</co: 0> on factors such as <co: 0>field tile damage</co: 0>, <co: 0>battery consumption</co: 0>, <co: 0>robot transportation</co: 0> and <co: 0>total robot performance</co: 0>. There is a <co: 0>horizontal expansion limit</co: 0>, meaning that <co: 0>robots may expand beyond the starting configuration</co: 0> but are <co: 0>still subject to sizing constraints</co: 0>.\u001b[0m\n",
            "\n",
            "\u001b[1m> Finished chain.\u001b[0m\n",
            "There is no weight limit for the Into the Deep Robot, but teams should consider the impact of the robot's weight on factors such as field tile damage, battery consumption, robot transportation and total robot performance. There is a horizontal expansion limit, meaning that robots may expand beyond the starting configuration but are still subject to sizing constraints.\n"
          ]
        }
      ]
    },
    {
      "cell_type": "code",
      "source": [
        "output = agent_executor.invoke(\n",
        "    {\n",
        "        \"input\": \"Whats the Into the Deep Robot's horizontal expansion limit?\",\n",
        "        \"preamble\": preamble,\n",
        "    }\n",
        ")\n",
        "\n",
        "#print(output)\n",
        "\n",
        "print(output['output'])"
      ],
      "metadata": {
        "colab": {
          "base_uri": "https://localhost:8080/"
        },
        "id": "51bl3Lt1jqQc",
        "outputId": "c43ef7dd-bead-4bd7-f7fe-837a8e39c6ab"
      },
      "execution_count": 80,
      "outputs": [
        {
          "output_type": "stream",
          "name": "stdout",
          "text": [
            "\n",
            "\n",
            "\u001b[1m> Entering new AgentExecutor chain...\u001b[0m\n",
            "\u001b[32;1m\u001b[1;3m\n",
            "I will search the vectorstore for the horizontal expansion limit of the Into the Deep Robot.\n",
            "{'tool_name': 'vectorstore_search', 'parameters': {'query': \"Into the Deep Robot's horizontal expansion limit\"}}\n",
            "\u001b[0m\u001b[33;1m\u001b[1;3mSection 11 Game Rules (G) V7 83 of 144 \n",
            " \n",
            "G418 Horizontal expansion limit. After the MATCH has started, ROBOTS may expand beyond the STARTING \n",
            "CONFIGURATION but are still subject to sizing constraints. The sizing constraints are specified in \n",
            "R104). \n",
            "Violation: if more than MOMENTARY, MINOR FOUL, or MAJOR FOUL if the over-expansion is used for \n",
            "strategic benefit, including if it impedes or enables a scoring action. \n",
            "This rule is intended to limit the amount of floor area each ROBOT can cover with \n",
            "the maximum range of motion of all extensions. All possible movement of \n",
            "extensions outside the STARTING CONFIGURATION must be constrained as \n",
            "described in R104.  \n",
            "During the MATCH REFEREES may use ARENA elements to help gauge ROBOT \n",
            "expansion during the MATCH. For example: \n",
            "A. TILES are approximately 24 in. (~61 cm) \n",
            "B. The RUNGS on the SUBMERSIBLE are 44.5 in. (~113 cm) wide \n",
            "G419 Watch out for Humans. A ROBOT may not:\n",
            "\n",
            "ROBOTS which change orientation (drive, tip, roll, etc.) during the MATCH are still subject to the \n",
            "horizontal expansion limit measured parallel (coplanar) to the TILES. \n",
            "This rule is intended to limit the amount of floor area each ROBOT can cover with\n",
            "\n",
            "− FIELD TILE damage \n",
            "− battery consumption  \n",
            "− ROBOT transportation \n",
            "− total ROBOT performance \n",
            "R104 There is a horizontal expansion limit. After the MATCH has started, ROBOTS may expand beyond the \n",
            "STARTING CONFIGURATION but are still subject to sizing constraints. The sizing constraints are:\n",
            "\n",
            "ROBOTS which change orientation (drive, tip, roll, etc.) during the MATCH are still subject to the \n",
            "horizontal expansion limit measured parallel (coplanar) to the TILES. \n",
            "This rule is intended to limit the amount of floor area each ROBOT can cover with \n",
            "the maximum range of motion of all extensions; extensions may be software or \n",
            "hardware limited. All possible movement of extensions outside the STARTING \n",
            "CONFIGURATION must be constrained within the horizontal size boundary.  \n",
            "Teams should be prepared to show compliance with this rule and demonstrate \n",
            "their ROBOT expansions during the inspection process. During inspection each \n",
            "ROBOT will be placed completely within a 20 in. x 42 in. taped box, with the \n",
            "position and orientation within the box chosen by the team. While keeping the \n",
            "ROBOT chassis stationary, the ROBOT must demonstrate that the full range of \n",
            "motion of all extensions outside of STARTING CONFIGURATION remain\u001b[0m\u001b[32;1m\u001b[1;3mRelevant Documents: 0\n",
            "Cited Documents: 0\n",
            "Answer: The Into the Deep Robot's horizontal expansion limit is 20 in. x 42 in.\n",
            "Grounded answer: The Into the Deep Robot's horizontal expansion limit is <co: 0>20 in. x 42 in</co: 0>.\u001b[0m\n",
            "\n",
            "\u001b[1m> Finished chain.\u001b[0m\n",
            "The Into the Deep Robot's horizontal expansion limit is 20 in. x 42 in.\n"
          ]
        }
      ]
    },
    {
      "cell_type": "code",
      "source": [],
      "metadata": {
        "id": "ZYb8xSG5qhUF"
      },
      "execution_count": null,
      "outputs": []
    },
    {
      "cell_type": "code",
      "source": [],
      "metadata": {
        "id": "_jzer9qYmK8L"
      },
      "execution_count": null,
      "outputs": []
    }
  ]
}